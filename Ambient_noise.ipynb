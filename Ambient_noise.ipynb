{
 "cells": [
  {
   "cell_type": "code",
   "execution_count": 2,
   "metadata": {},
   "outputs": [],
   "source": [
    "Name          = 'Madeira'                 # Project Name\n",
    "\n",
    "# Data Limits parameters\n",
    "pos_start     = 50                      # Fiber position start in [m]\n",
    "pos_stop      = 10000                   # Fiber position stop  in [m]\n",
    "time_start    = 0.2                     # Aquisition time start in [min]\n",
    "time_stop     = 10                      # Aquisition time stop  in [min]"
   ]
  },
  {
   "cell_type": "code",
   "execution_count": 3,
   "metadata": {},
   "outputs": [
    {
     "ename": "FileNotFoundError",
     "evalue": "[WinError 3] O sistema não conseguiu localizar o caminho especificado: 'c:\\\\Users\\\\gteix\\\\Projectos\\\\QuLab\\\\MODAS\\\\Data\\\\MODAS\\\\Madeira'",
     "output_type": "error",
     "traceback": [
      "\u001b[1;31m---------------------------------------------------------------------------\u001b[0m",
      "\u001b[1;31mFileNotFoundError\u001b[0m                         Traceback (most recent call last)",
      "Input \u001b[1;32mIn [3]\u001b[0m, in \u001b[0;36m<cell line: 6>\u001b[1;34m()\u001b[0m\n\u001b[0;32m      3\u001b[0m \u001b[38;5;28;01mfrom\u001b[39;00m \u001b[38;5;21;01mmodels\u001b[39;00m\u001b[38;5;21;01m.\u001b[39;00m\u001b[38;5;21;01mHDAS_file_convert\u001b[39;00m \u001b[38;5;28;01mimport\u001b[39;00m HDAS_2DMap, HDAS_meas_settings, sampling_file_name\n\u001b[0;32m      5\u001b[0m data_folder      \u001b[38;5;241m=\u001b[39m os\u001b[38;5;241m.\u001b[39mpath\u001b[38;5;241m.\u001b[39mjoin(os\u001b[38;5;241m.\u001b[39mpath\u001b[38;5;241m.\u001b[39mdirname(os\u001b[38;5;241m.\u001b[39mgetcwd()), \u001b[38;5;124m'\u001b[39m\u001b[38;5;124mData\u001b[39m\u001b[38;5;124m'\u001b[39m, \u001b[38;5;124m'\u001b[39m\u001b[38;5;124mMODAS\u001b[39m\u001b[38;5;124m'\u001b[39m, Name)\n\u001b[1;32m----> 6\u001b[0m day_folder_list  \u001b[38;5;241m=\u001b[39m \u001b[43msampling_file_name\u001b[49m\u001b[43m(\u001b[49m\u001b[43mdata_folder\u001b[49m\u001b[43m)\u001b[49m\n\u001b[0;32m      7\u001b[0m arg_file         \u001b[38;5;241m=\u001b[39m day_folder_list[\u001b[38;5;241m0\u001b[39m] \u001b[38;5;241m+\u001b[39m os\u001b[38;5;241m.\u001b[39msep \u001b[38;5;241m+\u001b[39m os\u001b[38;5;241m.\u001b[39mlistdir(day_folder_list[\u001b[38;5;241m0\u001b[39m])[\u001b[38;5;241m0\u001b[39m]\n\u001b[0;32m      9\u001b[0m data_args        \u001b[38;5;241m=\u001b[39m HDAS_meas_settings( arg_file )\n",
      "File \u001b[1;32mc:\\Users\\gteix\\Projectos\\QuLab\\MODAS\\Code\\models\\HDAS_file_convert.py:23\u001b[0m, in \u001b[0;36msampling_file_name\u001b[1;34m(folder_path_name)\u001b[0m\n\u001b[0;32m     21\u001b[0m \u001b[38;5;28;01mdef\u001b[39;00m \u001b[38;5;21msampling_file_name\u001b[39m(folder_path_name: \u001b[38;5;28mstr\u001b[39m):\n\u001b[0;32m     22\u001b[0m \u001b[38;5;250m    \u001b[39m\u001b[38;5;124;03m\"\"\"Get a list of file paths in the given directory.\"\"\"\u001b[39;00m\n\u001b[1;32m---> 23\u001b[0m     \u001b[38;5;28;01mreturn\u001b[39;00m [ os\u001b[38;5;241m.\u001b[39mpath\u001b[38;5;241m.\u001b[39mjoin(folder_path_name, file) \u001b[38;5;28;01mfor\u001b[39;00m file \u001b[38;5;129;01min\u001b[39;00m \u001b[43mos\u001b[49m\u001b[38;5;241;43m.\u001b[39;49m\u001b[43mlistdir\u001b[49m\u001b[43m(\u001b[49m\u001b[43mfolder_path_name\u001b[49m\u001b[43m)\u001b[49m]\n",
      "\u001b[1;31mFileNotFoundError\u001b[0m: [WinError 3] O sistema não conseguiu localizar o caminho especificado: 'c:\\\\Users\\\\gteix\\\\Projectos\\\\QuLab\\\\MODAS\\\\Data\\\\MODAS\\\\Madeira'"
     ]
    }
   ],
   "source": [
    "import numpy as np\n",
    "import os\n",
    "from models.HDAS_file_convert import HDAS_2DMap, HDAS_meas_settings, sampling_file_name\n",
    "\n",
    "data_folder      = os.path.join(os.path.dirname(os.getcwd()), 'Data', 'MODAS', Name)\n",
    "day_folder_list  = sampling_file_name(data_folder)\n",
    "arg_file         = day_folder_list[0] + os.sep + os.listdir(day_folder_list[0])[0]\n",
    "\n",
    "data_args        = HDAS_meas_settings( arg_file )\n",
    "for key, value in data_args.items():\n",
    "    print(f\"> {key:<{17}}: {value}\")\n",
    "\n",
    "print(\"\\n>> Load 2D HDAS Map\")\n",
    "data_memmap, data_args = HDAS_2DMap(day_folder_list[0], (pos_start, pos_stop), (time_start*60, time_stop*60))\n",
    "\n",
    "Data = np.array(data_memmap)\n",
    "del data_memmap"
   ]
  },
  {
   "cell_type": "code",
   "execution_count": 1,
   "metadata": {},
   "outputs": [
    {
     "name": "stdout",
     "output_type": "stream",
     "text": [
      "> Detrend Data ...\n"
     ]
    },
    {
     "ename": "NameError",
     "evalue": "name 'Data' is not defined",
     "output_type": "error",
     "traceback": [
      "\u001b[1;31m---------------------------------------------------------------------------\u001b[0m",
      "\u001b[1;31mNameError\u001b[0m                                 Traceback (most recent call last)",
      "Input \u001b[1;32mIn [1]\u001b[0m, in \u001b[0;36m<cell line: 13>\u001b[1;34m()\u001b[0m\n\u001b[0;32m     11\u001b[0m \u001b[38;5;66;03m## Data Cleaning\u001b[39;00m\n\u001b[0;32m     12\u001b[0m \u001b[38;5;28mprint\u001b[39m(\u001b[38;5;124m\"\u001b[39m\u001b[38;5;124m> Detrend Data ...\u001b[39m\u001b[38;5;124m\"\u001b[39m)\n\u001b[1;32m---> 13\u001b[0m demeaned   \u001b[38;5;241m=\u001b[39m DeMean_data(\u001b[43mData\u001b[49m)\n\u001b[0;32m     14\u001b[0m detrend    \u001b[38;5;241m=\u001b[39m signal\u001b[38;5;241m.\u001b[39mdetrend(demeaned, axis\u001b[38;5;241m=\u001b[39m\u001b[38;5;241m1\u001b[39m)\n\u001b[0;32m     16\u001b[0m \u001b[38;5;28mprint\u001b[39m(\u001b[38;5;124mf\u001b[39m\u001b[38;5;124m\"\u001b[39m\u001b[38;5;124m> Band-Pass Filter: fc = [ \u001b[39m\u001b[38;5;132;01m{\u001b[39;00mf_low\u001b[38;5;132;01m}\u001b[39;00m\u001b[38;5;124m , \u001b[39m\u001b[38;5;132;01m{\u001b[39;00mf_high\u001b[38;5;132;01m}\u001b[39;00m\u001b[38;5;124m ] Hz ...\u001b[39m\u001b[38;5;124m\"\u001b[39m)\n",
      "\u001b[1;31mNameError\u001b[0m: name 'Data' is not defined"
     ]
    }
   ],
   "source": [
    "from models.HDAS_signal_time     import DeMean_data, Normalize_MinMax\n",
    "from models.HDAS_signal_spectrum import BandPass_filter\n",
    "from scipy import signal\n",
    "import matplotlib.pyplot as plt\n",
    "\n",
    "# User filter parameters\n",
    "fs         = 50\n",
    "f_low      = 0.02\n",
    "f_high     = 0.99*0.5*fs\n",
    "\n",
    "## Data Cleaning\n",
    "print(\"> Detrend Data ...\")\n",
    "demeaned   = DeMean_data(Data)\n",
    "detrend    = signal.detrend(demeaned, axis=1)\n",
    "\n",
    "print(f\"> Band-Pass Filter: fc = [ {f_low} , {f_high} ] Hz ...\")\n",
    "filtered   = BandPass_filter(detrend, f_low, f_high, fs)\n",
    "\n",
    "print(\"> Normalize Data ...\")\n",
    "norm_data  = Normalize_MinMax(filtered, axis=1)\n",
    "\n",
    "## Plot´\n",
    "print(\"> Plot Data ...\")\n",
    "plot_data   = [Data]\n",
    "Title       = ['Raw Data']\n",
    "plot_data  += [demeaned]\n",
    "Title      += ['De-Meaned Data']\n",
    "plot_data  += [detrend]\n",
    "Title      += ['De-Trended Data']\n",
    "plot_data  += [filtered]\n",
    "Title      += ['Filtered Data']\n",
    "plot_data  += [norm_data]\n",
    "Title      += ['Normalized Data']\n",
    "\n",
    "x_vals  = np.linspace( time_start, time_stop, Data.shape[1] )\n",
    "y_vals  = np.linspace( pos_start, pos_stop, Data.shape[0] )\n",
    "cmap    = 'bone'\n",
    "n_plots = len(plot_data)\n",
    "\n",
    "plt.figure(figsize=(16, 8))\n",
    "\n",
    "for i in range(n_plots):\n",
    "    \n",
    "    plt.subplot(2, 3, i+1)\n",
    "    plt.title(Title[i])\n",
    "    plt.imshow(plot_data[i], cmap=cmap, extent=[x_vals[0], x_vals[-1], y_vals[-1], y_vals[0]], aspect='auto')\n",
    "    plt.colorbar()\n",
    "\n",
    "    # Set custom x and y ticks\n",
    "    plt.xticks(np.linspace(x_vals[0], x_vals[-1], 8))\n",
    "    plt.yticks(np.linspace(y_vals[0], y_vals[-1], 8))\n",
    "\n",
    "    plt.ylabel(\"Fiber Lenght [m]\")\n",
    "    plt.xlabel(\"Time [min]\")\n",
    "\n",
    "    # Move the x-axis to the top\n",
    "    plt.gca().xaxis.set_ticks_position('top')\n",
    "    plt.gca().xaxis.set_label_position('top')\n",
    "\n",
    "plt.tight_layout()\n",
    "plt.show()"
   ]
  },
  {
   "cell_type": "code",
   "execution_count": 4,
   "metadata": {},
   "outputs": [
    {
     "data": {
      "image/png": "[encoded data removed]",
      "text/plain": [
       "<Figure size 432x288 with 2 Axes>"
      ]
     },
     "metadata": {
      "needs_background": "light"
     },
     "output_type": "display_data"
    }
   ],
   "source": [
    "from models.HDAS_signal_spectrum import spectrum, select_peaks\n",
    "\n",
    "# User filter parameters\n",
    "fs         = 50\n",
    "delta_f    = 1\n",
    "n_peaks    = 150\n",
    "chan       = 35\n",
    "\n",
    "# Detrend data Spectrum\n",
    "data_arr            = norm_data[chan]\n",
    "spect_arr, freq_arr = spectrum(data_arr)\n",
    "data                = np.vstack((spect_arr, freq_arr))\n",
    "limit               = int( len(spect_arr)*1/5 )\n",
    "\n",
    "# Spectral analysis\n",
    "peaks        = select_peaks(spect_arr, n_peaks, 0, fs/2)[1:]\n",
    "noise_level  = np.mean(spect_arr[limit:]) + np.mean(spect_arr[peaks])\n",
    "peaks        = np.array([p for p in peaks if spect_arr[p] >= noise_level])\n",
    "\n",
    "# Filter peaks by neighbour\n",
    "index_bin_size = len(spect_arr) // n_peaks\n",
    "cc             = 1\n",
    "counts         = np.ones(len(peaks))\n",
    "\n",
    "while cc > 0:\n",
    "    changes_made = False\n",
    "    aux = np.ones(len(peaks), dtype=bool)\n",
    "\n",
    "    for i in range(0, len(peaks)):\n",
    "        if peaks[i] != -1:\n",
    "            if i > 0 and peaks[i] - peaks[i-1] < cc * index_bin_size and spect_arr[peaks[i]] > spect_arr[peaks[i - 1]]:\n",
    "                counts[i]  += counts[i-1]\n",
    "                aux[i - 1] = False\n",
    "                changes_made = True\n",
    "            if i < len(peaks)-1 and peaks[i + 1] - peaks[i] < cc * index_bin_size and spect_arr[peaks[i]] > spect_arr[peaks[i + 1]]:\n",
    "                counts[i]  += counts[i+1]\n",
    "                aux[i + 1] = False\n",
    "                changes_made = True\n",
    "\n",
    "    peaks  = peaks[aux]\n",
    "    counts = counts[aux]\n",
    "\n",
    "    if changes_made:\n",
    "        cc += 1\n",
    "    else:\n",
    "        cc = 0\n",
    "\n",
    "# Filtered data Spectrum\n",
    "freq_bin_size = fs / (2 * n_peaks)\n",
    "filtered_data = np.zeros((len(peaks), data_arr.size))\n",
    "\n",
    "for i, peak in enumerate(peaks):\n",
    "    df     = max(1, freq_bin_size*counts[i])\n",
    "    f_low  = max(0.09, freq_arr[peak] - df / 2)\n",
    "    f_high = min(0.99*(fs/2), freq_arr[peak] + df / 2)\n",
    "    \n",
    "    if f_high - f_low < 1: \n",
    "        if f_high == 0.99*(fs/2): f_low = f_high - 1\n",
    "        else: f_high = f_low + 1\n",
    "\n",
    "\n",
    "    filtered_data[i,:] = BandPass_filter(data_arr, f_low, f_high, fs)\n",
    "\n",
    "result              = np.sum(filtered_data, axis=0)\n",
    "spect_arr, freq_arr = spectrum(result)\n",
    "data                = np.vstack((data, spect_arr, freq_arr))\n",
    "\n",
    "# Plot\n",
    "spect_arr = data[::2,:]\n",
    "freq_arr  = data[1::2,:]\n",
    "n_plots   = len(spect_arr)\n",
    "\n",
    "start     = 5\n",
    "stop      = int( len(spect_arr[0]) )\n",
    "\n",
    "for i in range(n_plots):\n",
    "\n",
    "    x_vals = freq_arr[i][start:stop] \n",
    "    y_vals = spect_arr[i][start:stop]  \n",
    "\n",
    "    plt.subplot(2, 1, i+1)\n",
    "    plt.plot(x_vals, y_vals)\n",
    "    plt.axhline(y=noise_level, color='y', label = 'noise level')\n",
    "    for peak in peaks:\n",
    "        if peak >= start and peak < stop:\n",
    "            plt.axvline(x=x_vals[peak-start], color='g')\n",
    "\n",
    "    plt.title('Channel {} Spectrum'.format(chan))\n",
    "    plt.ylabel('Spectrum Amplitude')\n",
    "    plt.xlabel('Frequencies [Hz]')\n",
    "    #plt.legend()\n",
    "\n",
    "plt.tight_layout()\n",
    "plt.show()\n"
   ]
  },
  {
   "cell_type": "code",
   "execution_count": null,
   "metadata": {},
   "outputs": [],
   "source": []
  }
 ],
 "metadata": {
  "kernelspec": {
   "display_name": "Python 3",
   "language": "python",
   "name": "python3"
  },
  "language_info": {
   "codemirror_mode": {
    "name": "ipython",
    "version": 3
   },
   "file_extension": ".py",
   "mimetype": "text/x-python",
   "name": "python",
   "nbconvert_exporter": "python",
   "pygments_lexer": "ipython3",
   "version": "3.10.4"
  }
 },
 "nbformat": 4,
 "nbformat_minor": 2
}
